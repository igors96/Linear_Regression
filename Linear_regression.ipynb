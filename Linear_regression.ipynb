{
  "metadata": {
    "kernelspec": {
      "language": "python",
      "display_name": "Python 3",
      "name": "python3"
    },
    "language_info": {
      "pygments_lexer": "ipython3",
      "nbconvert_exporter": "python",
      "version": "3.6.4",
      "file_extension": ".py",
      "codemirror_mode": {
        "name": "ipython",
        "version": 3
      },
      "name": "python",
      "mimetype": "text/x-python"
    },
    "colab": {
      "provenance": [],
      "include_colab_link": true
    }
  },
  "nbformat_minor": 0,
  "nbformat": 4,
  "cells": [
    {
      "cell_type": "markdown",
      "metadata": {
        "id": "view-in-github",
        "colab_type": "text"
      },
      "source": [
        "<a href=\"https://colab.research.google.com/github/igors96/Linear_Regression/blob/main/Linear_regression.ipynb\" target=\"_parent\"><img src=\"https://colab.research.google.com/assets/colab-badge.svg\" alt=\"Open In Colab\"/></a>"
      ]
    },
    {
      "cell_type": "code",
      "source": [
        "from sklearn.datasets import make_regression\n",
        "import matplotlib.pyplot as plt\n",
        "#gerando uma massa de dados:\n",
        "x, y = make_regression(n_samples = 200, n_features = 1, noise = 30)\n",
        "#mostrando no gráfico\n",
        "plt.scatter(x,y)\n",
        "plt.show()"
      ],
      "metadata": {
        "execution": {
          "iopub.status.busy": "2022-10-20T15:55:59.576555Z",
          "iopub.execute_input": "2022-10-20T15:55:59.576842Z",
          "iopub.status.idle": "2022-10-20T15:55:59.711379Z",
          "shell.execute_reply.started": "2022-10-20T15:55:59.576815Z",
          "shell.execute_reply": "2022-10-20T15:55:59.710585Z"
        },
        "trusted": true,
        "colab": {
          "base_uri": "https://localhost:8080/",
          "height": 265
        },
        "id": "gi6AyJgnCd1w",
        "outputId": "21088981-1085-478c-978f-835429306d95"
      },
      "execution_count": 1,
      "outputs": [
        {
          "output_type": "display_data",
          "data": {
            "text/plain": [
              "<Figure size 432x288 with 1 Axes>"
            ],
            "image/png": "[encoded data removed]"
          },
          "metadata": {
            "needs_background": "light"
          }
        }
      ]
    },
    {
      "cell_type": "code",
      "source": [
        "from sklearn.linear_model import LinearRegression\n",
        "#Criação do modelo\n",
        "modelo = LinearRegression()"
      ],
      "metadata": {
        "execution": {
          "iopub.status.busy": "2022-10-20T15:55:59.712933Z",
          "iopub.execute_input": "2022-10-20T15:55:59.713373Z",
          "iopub.status.idle": "2022-10-20T15:55:59.717060Z",
          "shell.execute_reply.started": "2022-10-20T15:55:59.713342Z",
          "shell.execute_reply": "2022-10-20T15:55:59.716271Z"
        },
        "trusted": true,
        "id": "2V90_3AoCd14"
      },
      "execution_count": 2,
      "outputs": []
    },
    {
      "cell_type": "code",
      "source": [
        "modelo.fit(x,y)"
      ],
      "metadata": {
        "execution": {
          "iopub.status.busy": "2022-10-20T15:55:59.718538Z",
          "iopub.execute_input": "2022-10-20T15:55:59.718956Z",
          "iopub.status.idle": "2022-10-20T15:55:59.733874Z",
          "shell.execute_reply.started": "2022-10-20T15:55:59.718926Z",
          "shell.execute_reply": "2022-10-20T15:55:59.732813Z"
        },
        "trusted": true,
        "colab": {
          "base_uri": "https://localhost:8080/"
        },
        "id": "HeeVHnseCd15",
        "outputId": "620d70d1-cc50-4de0-e54e-beb748bc49aa"
      },
      "execution_count": 3,
      "outputs": [
        {
          "output_type": "execute_result",
          "data": {
            "text/plain": [
              "LinearRegression()"
            ]
          },
          "metadata": {},
          "execution_count": 3
        }
      ]
    },
    {
      "cell_type": "code",
      "source": [
        "modelo.intercept_"
      ],
      "metadata": {
        "execution": {
          "iopub.status.busy": "2022-10-20T15:55:59.735167Z",
          "iopub.execute_input": "2022-10-20T15:55:59.735537Z",
          "iopub.status.idle": "2022-10-20T15:55:59.744935Z",
          "shell.execute_reply.started": "2022-10-20T15:55:59.735507Z",
          "shell.execute_reply": "2022-10-20T15:55:59.743824Z"
        },
        "trusted": true,
        "colab": {
          "base_uri": "https://localhost:8080/"
        },
        "id": "RWpu3f1xCd16",
        "outputId": "ccc5fd43-2fda-482e-bd02-94f03374eb0b"
      },
      "execution_count": 4,
      "outputs": [
        {
          "output_type": "execute_result",
          "data": {
            "text/plain": [
              "0.9041742933838615"
            ]
          },
          "metadata": {},
          "execution_count": 4
        }
      ]
    },
    {
      "cell_type": "code",
      "source": [
        "modelo.coef_"
      ],
      "metadata": {
        "execution": {
          "iopub.status.busy": "2022-10-20T15:55:59.746523Z",
          "iopub.execute_input": "2022-10-20T15:55:59.746842Z",
          "iopub.status.idle": "2022-10-20T15:55:59.755586Z",
          "shell.execute_reply.started": "2022-10-20T15:55:59.746794Z",
          "shell.execute_reply": "2022-10-20T15:55:59.754529Z"
        },
        "trusted": true,
        "colab": {
          "base_uri": "https://localhost:8080/"
        },
        "id": "JCMdT7uHCd18",
        "outputId": "0c8ea68c-fa97-4a57-fa6b-49e6c99c5849"
      },
      "execution_count": 5,
      "outputs": [
        {
          "output_type": "execute_result",
          "data": {
            "text/plain": [
              "array([46.90445316])"
            ]
          },
          "metadata": {},
          "execution_count": 5
        }
      ]
    },
    {
      "cell_type": "code",
      "source": [
        "#mostrando o resultado\n",
        "import numpy as np\n",
        "\n",
        "plt.scatter(x,y)\n",
        "xreg = np.arange(-3,3,1)\n",
        "plt.plot(xreg, modelo.coef_ * xreg + modelo.intercept_, color = 'red') # gráfico regressão\n",
        "plt.show()"
      ],
      "metadata": {
        "execution": {
          "iopub.status.busy": "2022-10-20T15:55:59.756957Z",
          "iopub.execute_input": "2022-10-20T15:55:59.757401Z",
          "iopub.status.idle": "2022-10-20T15:55:59.899020Z",
          "shell.execute_reply.started": "2022-10-20T15:55:59.757356Z",
          "shell.execute_reply": "2022-10-20T15:55:59.898036Z"
        },
        "trusted": true,
        "colab": {
          "base_uri": "https://localhost:8080/",
          "height": 265
        },
        "id": "TsCDJM46Cd19",
        "outputId": "27f4115e-6e80-4acd-daef-9b72eb5692ce"
      },
      "execution_count": 6,
      "outputs": [
        {
          "output_type": "display_data",
          "data": {
            "text/plain": [
              "<Figure size 432x288 with 1 Axes>"
            ],
            "image/png": "[encoded data removed]"
          },
          "metadata": {
            "needs_background": "light"
          }
        }
      ]
    },
    {
      "cell_type": "code",
      "source": [
        "from sklearn.model_selection import train_test_split\n",
        "x_treino, x_teste, y_treino, y_teste = train_test_split(x, y, test_size = 0.3)"
      ],
      "metadata": {
        "execution": {
          "iopub.status.busy": "2022-10-20T15:55:59.900301Z",
          "iopub.execute_input": "2022-10-20T15:55:59.900683Z",
          "iopub.status.idle": "2022-10-20T15:55:59.905923Z",
          "shell.execute_reply.started": "2022-10-20T15:55:59.900650Z",
          "shell.execute_reply": "2022-10-20T15:55:59.904957Z"
        },
        "trusted": true,
        "id": "245QTOxtCd1_"
      },
      "execution_count": 7,
      "outputs": []
    },
    {
      "cell_type": "code",
      "source": [
        "modelo.fit(x_treino,y_treino)"
      ],
      "metadata": {
        "execution": {
          "iopub.status.busy": "2022-10-20T15:55:59.907945Z",
          "iopub.execute_input": "2022-10-20T15:55:59.908253Z",
          "iopub.status.idle": "2022-10-20T15:55:59.919203Z",
          "shell.execute_reply.started": "2022-10-20T15:55:59.908221Z",
          "shell.execute_reply": "2022-10-20T15:55:59.918268Z"
        },
        "trusted": true,
        "colab": {
          "base_uri": "https://localhost:8080/"
        },
        "id": "KOiFnzV_Cd2A",
        "outputId": "885a5716-ce34-4db2-d0f1-b1d857f40a79"
      },
      "execution_count": 8,
      "outputs": [
        {
          "output_type": "execute_result",
          "data": {
            "text/plain": [
              "LinearRegression()"
            ]
          },
          "metadata": {},
          "execution_count": 8
        }
      ]
    },
    {
      "cell_type": "code",
      "source": [
        "resultado = modelo.score(x_teste, y_teste)"
      ],
      "metadata": {
        "execution": {
          "iopub.status.busy": "2022-10-20T15:55:59.920647Z",
          "iopub.execute_input": "2022-10-20T15:55:59.920957Z",
          "iopub.status.idle": "2022-10-20T15:55:59.930103Z",
          "shell.execute_reply.started": "2022-10-20T15:55:59.920926Z",
          "shell.execute_reply": "2022-10-20T15:55:59.929072Z"
        },
        "trusted": true,
        "id": "zHjUvFHjCd2B"
      },
      "execution_count": 9,
      "outputs": []
    },
    {
      "cell_type": "code",
      "source": [
        "print(resultado)"
      ],
      "metadata": {
        "execution": {
          "iopub.status.busy": "2022-10-20T15:55:59.931435Z",
          "iopub.execute_input": "2022-10-20T15:55:59.931816Z",
          "iopub.status.idle": "2022-10-20T15:55:59.940110Z",
          "shell.execute_reply.started": "2022-10-20T15:55:59.931782Z",
          "shell.execute_reply": "2022-10-20T15:55:59.938761Z"
        },
        "trusted": true,
        "colab": {
          "base_uri": "https://localhost:8080/"
        },
        "id": "D6qw0yBoCd2D",
        "outputId": "f55f5ff7-8692-4ed1-e48c-1288bd13783c"
      },
      "execution_count": 10,
      "outputs": [
        {
          "output_type": "stream",
          "name": "stdout",
          "text": [
            "0.7447907081891395\n"
          ]
        }
      ]
    }
  ]
}